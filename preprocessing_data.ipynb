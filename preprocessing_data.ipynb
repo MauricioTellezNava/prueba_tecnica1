{
 "cells": [
  {
   "cell_type": "code",
   "execution_count": 1,
   "metadata": {},
   "outputs": [],
   "source": [
    "import pandas as pd\n",
    "import numpy as np\n",
    "import seaborn as sns"
   ]
  },
  {
   "attachments": {},
   "cell_type": "markdown",
   "metadata": {},
   "source": [
    "# Carga de datos"
   ]
  },
  {
   "cell_type": "code",
   "execution_count": 25,
   "metadata": {},
   "outputs": [
    {
     "name": "stderr",
     "output_type": "stream",
     "text": [
      "C:\\Users\\danie\\AppData\\Local\\Temp\\ipykernel_16448\\603784994.py:1: DtypeWarning: Columns (2) have mixed types. Specify dtype option on import or set low_memory=False.\n",
      "  df = pd.read_csv('C:/Users/danie/OneDrive/Escritorio/Data Science/Machine Learning Projects/ecobici/ECOBICI.csv')\n"
     ]
    }
   ],
   "source": [
    "df = pd.read_csv('C:/Users/danie/OneDrive/Escritorio/Data Science/Machine Learning Projects/ecobici/ECOBICI.csv')\n",
    "df2 = df[['Bici', 'Genero_Usuario', 'Edad_Usuario', 'Ciclo_Estacion_Retiro', 'Fecha_Retiro', 'Hora_Retiro', 'Ciclo_EstacionArribo', 'Fecha Arribo',\n",
    "       'Hora_Arribo', 'salida_nombre', 'salida_colonia','salida_alcaldia', 'salida_latitud', 'salida_longitud','salida_tipo_ce', 'salida_candados',\n",
    "       'arribo_nombre', 'arribo_colonia', 'arribo_alcaldia', 'arribo_latitud','arribo_longitud', 'arribo_tipo_ce', 'arribo_candados']]"
   ]
  },
  {
   "attachments": {},
   "cell_type": "markdown",
   "metadata": {},
   "source": [
    "# Transformación de datos"
   ]
  },
  {
   "attachments": {},
   "cell_type": "markdown",
   "metadata": {},
   "source": [
    "Obteniendo las siguientes columnas a partir de la columna Fecha_Retiro\n",
    "* dia: día de la semana en que se realiza el viaje (lunes, martes, miercoles...)\n",
    "* mes: mes en que se realizó el viaje (01/2022, 03/2023...)"
   ]
  },
  {
   "cell_type": "code",
   "execution_count": 33,
   "metadata": {},
   "outputs": [
    {
     "name": "stderr",
     "output_type": "stream",
     "text": [
      "C:\\Users\\danie\\AppData\\Local\\Temp\\ipykernel_16448\\1033216623.py:2: SettingWithCopyWarning: \n",
      "A value is trying to be set on a copy of a slice from a DataFrame.\n",
      "Try using .loc[row_indexer,col_indexer] = value instead\n",
      "\n",
      "See the caveats in the documentation: https://pandas.pydata.org/pandas-docs/stable/user_guide/indexing.html#returning-a-view-versus-a-copy\n",
      "  df2['Fecha_Retiro'] = pd.to_datetime(df2['Fecha_Retiro'], format='%d/%m/%Y', errors='coerce')\n",
      "C:\\Users\\danie\\AppData\\Local\\Temp\\ipykernel_16448\\1033216623.py:5: SettingWithCopyWarning: \n",
      "A value is trying to be set on a copy of a slice from a DataFrame.\n",
      "Try using .loc[row_indexer,col_indexer] = value instead\n",
      "\n",
      "See the caveats in the documentation: https://pandas.pydata.org/pandas-docs/stable/user_guide/indexing.html#returning-a-view-versus-a-copy\n",
      "  df2['dia'] = df2['Fecha_Retiro'].dt.day_name(locale='es_ES')\n"
     ]
    }
   ],
   "source": [
    "# Convertir la columna 'Fecha_Retiro' en un objeto de fecha y hora\n",
    "df2['Fecha_Retiro'] = pd.to_datetime(df2['Fecha_Retiro'], format='%d/%m/%Y', errors='coerce')\n",
    "\n",
    "# Crear la columna 'dia' con el día de la semana\n",
    "df2['dia'] = df2['Fecha_Retiro'].dt.day_name(locale='es_ES')\n",
    "\n",
    "# Crear la columna 'mes' con el mes/año\n",
    "df2['mes'] = df2['Fecha_Retiro'].dt.strftime('%m/%Y')\n"
   ]
  },
  {
   "attachments": {},
   "cell_type": "markdown",
   "metadata": {},
   "source": [
    "Creando la columna flujo_tránsito y flujos_estaciones "
   ]
  },
  {
   "cell_type": "code",
   "execution_count": 57,
   "metadata": {},
   "outputs": [],
   "source": [
    "df2['flujo_transito'] = 'de '+ df2.salida_colonia + ' a ' + df2.arribo_colonia\n",
    "df2['flujos_estaciones'] = 'de la estacion ' + df2.Ciclo_Estacion_Retiro.astype('str') + ' a la estación ' + df2.Ciclo_EstacionArribo.astype('str')"
   ]
  },
  {
   "attachments": {},
   "cell_type": "markdown",
   "metadata": {},
   "source": [
    "# Exportando df2"
   ]
  },
  {
   "cell_type": "code",
   "execution_count": 78,
   "metadata": {},
   "outputs": [],
   "source": [
    "# df2.to_csv('C:/Users/danie/OneDrive/Escritorio/Data Science/Machine Learning Projects/ecobici/df.csv', index=False)"
   ]
  }
 ],
 "metadata": {
  "kernelspec": {
   "display_name": "Python 3",
   "language": "python",
   "name": "python3"
  },
  "language_info": {
   "codemirror_mode": {
    "name": "ipython",
    "version": 3
   },
   "file_extension": ".py",
   "mimetype": "text/x-python",
   "name": "python",
   "nbconvert_exporter": "python",
   "pygments_lexer": "ipython3",
   "version": "3.11.2"
  },
  "orig_nbformat": 4
 },
 "nbformat": 4,
 "nbformat_minor": 2
}
