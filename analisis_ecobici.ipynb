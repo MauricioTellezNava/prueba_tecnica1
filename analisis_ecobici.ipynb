{
 "cells": [
  {
   "cell_type": "code",
   "execution_count": 1,
   "metadata": {},
   "outputs": [],
   "source": [
    "import pandas as pd\n",
    "import numpy as np\n",
    "import seaborn as sns"
   ]
  },
  {
   "attachments": {},
   "cell_type": "markdown",
   "metadata": {},
   "source": [
    "# Carga de datos"
   ]
  },
  {
   "cell_type": "code",
   "execution_count": 2,
   "metadata": {},
   "outputs": [
    {
     "name": "stderr",
     "output_type": "stream",
     "text": [
      "C:\\Users\\danie\\AppData\\Local\\Temp\\ipykernel_3936\\3591598595.py:1: DtypeWarning: Columns (0,4,23,24) have mixed types. Specify dtype option on import or set low_memory=False.\n",
      "  df = pd.read_csv('C:/Users/danie/OneDrive/Escritorio/Data Science/Machine Learning Projects/ecobici/df.csv')\n"
     ]
    }
   ],
   "source": [
    "df = pd.read_csv('C:/Users/danie/OneDrive/Escritorio/Data Science/Machine Learning Projects/ecobici/df.csv')"
   ]
  },
  {
   "attachments": {},
   "cell_type": "markdown",
   "metadata": {},
   "source": [
    "# Análisis"
   ]
  },
  {
   "cell_type": "code",
   "execution_count": 3,
   "metadata": {},
   "outputs": [
    {
     "data": {
      "text/html": [
       "<div>\n",
       "<style scoped>\n",
       "    .dataframe tbody tr th:only-of-type {\n",
       "        vertical-align: middle;\n",
       "    }\n",
       "\n",
       "    .dataframe tbody tr th {\n",
       "        vertical-align: top;\n",
       "    }\n",
       "\n",
       "    .dataframe thead th {\n",
       "        text-align: right;\n",
       "    }\n",
       "</style>\n",
       "<table border=\"1\" class=\"dataframe\">\n",
       "  <thead>\n",
       "    <tr style=\"text-align: right;\">\n",
       "      <th></th>\n",
       "      <th>Bici</th>\n",
       "      <th>Genero_Usuario</th>\n",
       "      <th>Edad_Usuario</th>\n",
       "      <th>Ciclo_Estacion_Retiro</th>\n",
       "      <th>Fecha_Retiro</th>\n",
       "      <th>Hora_Retiro</th>\n",
       "      <th>Ciclo_EstacionArribo</th>\n",
       "      <th>Fecha Arribo</th>\n",
       "      <th>Hora_Arribo</th>\n",
       "      <th>salida_nombre</th>\n",
       "      <th>...</th>\n",
       "      <th>arribo_colonia</th>\n",
       "      <th>arribo_alcaldia</th>\n",
       "      <th>arribo_latitud</th>\n",
       "      <th>arribo_longitud</th>\n",
       "      <th>arribo_tipo_ce</th>\n",
       "      <th>arribo_candados</th>\n",
       "      <th>dia</th>\n",
       "      <th>mes</th>\n",
       "      <th>flujo_transito</th>\n",
       "      <th>flujos_estaciones</th>\n",
       "    </tr>\n",
       "  </thead>\n",
       "  <tbody>\n",
       "    <tr>\n",
       "      <th>0</th>\n",
       "      <td>11253</td>\n",
       "      <td>F</td>\n",
       "      <td>35.0</td>\n",
       "      <td>286</td>\n",
       "      <td>2022-01-31</td>\n",
       "      <td>17:33.0</td>\n",
       "      <td>75</td>\n",
       "      <td>31/01/2022</td>\n",
       "      <td>24:14.0</td>\n",
       "      <td>13 de Septiembre - Avenida Patriotismo</td>\n",
       "      <td>...</td>\n",
       "      <td>Hipódromo Condesa</td>\n",
       "      <td>CUAUHTEMOC</td>\n",
       "      <td>19.408676</td>\n",
       "      <td>-99.176759</td>\n",
       "      <td>3G</td>\n",
       "      <td>15.0</td>\n",
       "      <td>Lunes</td>\n",
       "      <td>01/2022</td>\n",
       "      <td>de Escandón a Hipódromo Condesa</td>\n",
       "      <td>de la estacion 286 a la estación 75</td>\n",
       "    </tr>\n",
       "    <tr>\n",
       "      <th>1</th>\n",
       "      <td>11287</td>\n",
       "      <td>F</td>\n",
       "      <td>57.0</td>\n",
       "      <td>68</td>\n",
       "      <td>2022-01-31</td>\n",
       "      <td>55:03.0</td>\n",
       "      <td>231</td>\n",
       "      <td>31/01/2022</td>\n",
       "      <td>24:15.0</td>\n",
       "      <td>Tamaulipas - Michoacán</td>\n",
       "      <td>...</td>\n",
       "      <td>Polanco</td>\n",
       "      <td>MIGUEL HIDALGO</td>\n",
       "      <td>19.429770</td>\n",
       "      <td>-99.193490</td>\n",
       "      <td>3G</td>\n",
       "      <td>27.0</td>\n",
       "      <td>Lunes</td>\n",
       "      <td>01/2022</td>\n",
       "      <td>de Condesa a Polanco</td>\n",
       "      <td>de la estacion 68 a la estación 231</td>\n",
       "    </tr>\n",
       "  </tbody>\n",
       "</table>\n",
       "<p>2 rows × 27 columns</p>\n",
       "</div>"
      ],
      "text/plain": [
       "    Bici Genero_Usuario  Edad_Usuario  Ciclo_Estacion_Retiro Fecha_Retiro  \\\n",
       "0  11253              F          35.0                    286   2022-01-31   \n",
       "1  11287              F          57.0                     68   2022-01-31   \n",
       "\n",
       "  Hora_Retiro  Ciclo_EstacionArribo Fecha Arribo Hora_Arribo  \\\n",
       "0     17:33.0                    75   31/01/2022     24:14.0   \n",
       "1     55:03.0                   231   31/01/2022     24:15.0   \n",
       "\n",
       "                            salida_nombre  ...     arribo_colonia  \\\n",
       "0  13 de Septiembre - Avenida Patriotismo  ...  Hipódromo Condesa   \n",
       "1                  Tamaulipas - Michoacán  ...            Polanco   \n",
       "\n",
       "  arribo_alcaldia  arribo_latitud  arribo_longitud arribo_tipo_ce  \\\n",
       "0      CUAUHTEMOC       19.408676       -99.176759             3G   \n",
       "1  MIGUEL HIDALGO       19.429770       -99.193490             3G   \n",
       "\n",
       "   arribo_candados    dia      mes                   flujo_transito  \\\n",
       "0             15.0  Lunes  01/2022  de Escandón a Hipódromo Condesa   \n",
       "1             27.0  Lunes  01/2022             de Condesa a Polanco   \n",
       "\n",
       "                     flujos_estaciones  \n",
       "0  de la estacion 286 a la estación 75  \n",
       "1  de la estacion 68 a la estación 231  \n",
       "\n",
       "[2 rows x 27 columns]"
      ]
     },
     "execution_count": 3,
     "metadata": {},
     "output_type": "execute_result"
    }
   ],
   "source": [
    "df.head(2)"
   ]
  },
  {
   "cell_type": "code",
   "execution_count": 4,
   "metadata": {},
   "outputs": [
    {
     "data": {
      "text/plain": [
       "Index(['Bici', 'Genero_Usuario', 'Edad_Usuario', 'Ciclo_Estacion_Retiro',\n",
       "       'Fecha_Retiro', 'Hora_Retiro', 'Ciclo_EstacionArribo', 'Fecha Arribo',\n",
       "       'Hora_Arribo', 'salida_nombre', 'salida_colonia', 'salida_alcaldia',\n",
       "       'salida_latitud', 'salida_longitud', 'salida_tipo_ce',\n",
       "       'salida_candados', 'arribo_nombre', 'arribo_colonia', 'arribo_alcaldia',\n",
       "       'arribo_latitud', 'arribo_longitud', 'arribo_tipo_ce',\n",
       "       'arribo_candados', 'dia', 'mes', 'flujo_transito', 'flujos_estaciones'],\n",
       "      dtype='object')"
      ]
     },
     "execution_count": 4,
     "metadata": {},
     "output_type": "execute_result"
    }
   ],
   "source": [
    "df.columns"
   ]
  },
  {
   "attachments": {},
   "cell_type": "markdown",
   "metadata": {},
   "source": [
    "### 1. ¿Qué día de la semana hay más viajes, usualmente?"
   ]
  },
  {
   "cell_type": "code",
   "execution_count": 5,
   "metadata": {},
   "outputs": [
    {
     "data": {
      "text/plain": [
       "Miércoles    1010369\n",
       "Jueves       1008864\n",
       "Martes       1000761\n",
       "Viernes       955969\n",
       "Lunes         905739\n",
       "Sábado        615409\n",
       "Domingo       588527\n",
       "Name: dia, dtype: int64"
      ]
     },
     "execution_count": 5,
     "metadata": {},
     "output_type": "execute_result"
    }
   ],
   "source": [
    "df.dia.value_counts()"
   ]
  },
  {
   "attachments": {},
   "cell_type": "markdown",
   "metadata": {},
   "source": [
    "### 2. ¿Cuál ha sido la bici más usada y cuál la menos usada?"
   ]
  },
  {
   "cell_type": "code",
   "execution_count": 6,
   "metadata": {},
   "outputs": [
    {
     "data": {
      "text/plain": [
       "9089       1597\n",
       "4280       1576\n",
       "8268       1572\n",
       "8715       1557\n",
       "9289       1552\n",
       "           ... \n",
       "10082         1\n",
       "12000         1\n",
       "9120          1\n",
       "10347         1\n",
       "4769626       1\n",
       "Name: Bici, Length: 14613, dtype: int64"
      ]
     },
     "execution_count": 6,
     "metadata": {},
     "output_type": "execute_result"
    }
   ],
   "source": [
    "df.Bici.value_counts()"
   ]
  },
  {
   "attachments": {},
   "cell_type": "markdown",
   "metadata": {},
   "source": [
    "### 3. ¿En qué mes del 2022 hubo más viajes y en qué mes hubo menos viajes?"
   ]
  },
  {
   "cell_type": "code",
   "execution_count": 7,
   "metadata": {},
   "outputs": [
    {
     "data": {
      "text/plain": [
       "03/2023    696575\n",
       "05/2022    578473\n",
       "02/2023    573245\n",
       "03/2022    546829\n",
       "01/2023    514151\n",
       "06/2022    508033\n",
       "04/2022    503933\n",
       "02/2022    422734\n",
       "07/2022    388896\n",
       "12/2022    380561\n",
       "01/2022    379488\n",
       "11/2022    371622\n",
       "10/2022    217385\n",
       "12/2021      2330\n",
       "11/2021      1122\n",
       "10/2021       246\n",
       "09/2022        15\n",
       "Name: mes, dtype: int64"
      ]
     },
     "execution_count": 7,
     "metadata": {},
     "output_type": "execute_result"
    }
   ],
   "source": [
    "df.mes.value_counts()"
   ]
  },
  {
   "attachments": {},
   "cell_type": "markdown",
   "metadata": {},
   "source": [
    "### 4. ¿Cuáles son las cinco estaciones de las que más salen bicis y cuáles fueron las que menos salidas reportaron?"
   ]
  },
  {
   "cell_type": "code",
   "execution_count": 8,
   "metadata": {},
   "outputs": [
    {
     "name": "stdout",
     "output_type": "stream",
     "text": [
      "Estaciones con más salidas:  64    63402\n",
      "1     46252\n",
      "72    45689\n",
      "53    41245\n",
      "19    40625\n",
      "Name: Ciclo_Estacion_Retiro, dtype: int64\n",
      "Estaciones con menos salidas:  411     596\n",
      "406    1037\n",
      "376    1183\n",
      "410    1241\n",
      "403    1436\n",
      "Name: Ciclo_Estacion_Retiro, dtype: int64\n"
     ]
    }
   ],
   "source": [
    "print('Estaciones con más salidas: ', df.Ciclo_Estacion_Retiro.value_counts().head())\n",
    "print('Estaciones con menos salidas: ', df.Ciclo_Estacion_Retiro.value_counts(ascending=True).head())"
   ]
  },
  {
   "attachments": {},
   "cell_type": "markdown",
   "metadata": {},
   "source": [
    "### 5. ¿Cuál es la estación a la que llegan más bicis? ¿Cuál es la estación a la que menos bicis llegan?"
   ]
  },
  {
   "cell_type": "code",
   "execution_count": 9,
   "metadata": {},
   "outputs": [
    {
     "name": "stdout",
     "output_type": "stream",
     "text": [
      "Estaciones con más llegadas de bicis:  64    65778\n",
      "1     47428\n",
      "72    44573\n",
      "43    44270\n",
      "29    43834\n",
      "Name: Ciclo_EstacionArribo, dtype: int64\n",
      "Estaciones con menos llegadas de bicis:  411     685\n",
      "376     980\n",
      "403    1063\n",
      "406    1099\n",
      "364    1206\n",
      "Name: Ciclo_EstacionArribo, dtype: int64\n"
     ]
    }
   ],
   "source": [
    "print('Estaciones con más llegadas de bicis: ', df.Ciclo_EstacionArribo.value_counts().head())\n",
    "print('Estaciones con menos llegadas de bicis: ', df.Ciclo_EstacionArribo.value_counts(ascending=True).head())"
   ]
  },
  {
   "attachments": {},
   "cell_type": "markdown",
   "metadata": {},
   "source": [
    "### 6. ¿Cuál es la colonia a la que llegan más bicis? ¿Cuál es la colonia a la que menos bicis llegan?"
   ]
  },
  {
   "cell_type": "code",
   "execution_count": 10,
   "metadata": {},
   "outputs": [
    {
     "name": "stdout",
     "output_type": "stream",
     "text": [
      "Colonias a las que llegan bicis:  Roma Norte    887937\n",
      "Juárez        574986\n",
      "Hipódromo     484441\n",
      "Centro        479801\n",
      "Cuauhtémoc    478049\n",
      "Name: arribo_colonia, dtype: int64\n",
      "Colonias a las que llegan menos bicis:  Lomas de Chapultepec Sección V                    6406\n",
      "Modelo Pensil                                     7276\n",
      "Lomas de Chapultepec Sección IV/Lomas Virreyes    7517\n",
      "Centro Urbano Presidente Alemán                   8728\n",
      "Cuauhtémoc Pensil                                 9570\n",
      "Name: arribo_colonia, dtype: int64\n"
     ]
    }
   ],
   "source": [
    "print('Colonias a las que llegan bicis: ', df.arribo_colonia.value_counts().head())\n",
    "print('Colonias a las que llegan menos bicis: ', df.arribo_colonia.value_counts(ascending=True).head())"
   ]
  },
  {
   "attachments": {},
   "cell_type": "markdown",
   "metadata": {},
   "source": [
    "### 7. ¿De qué colonia a qué colonia de la ciudad hay más viajes?"
   ]
  },
  {
   "cell_type": "code",
   "execution_count": 11,
   "metadata": {},
   "outputs": [
    {
     "data": {
      "text/plain": [
       "de Roma Norte a Roma Norte    258322\n",
       "de Polanco a Polanco          169966\n",
       "de Centro a Centro            154982\n",
       "de Juárez a Juárez            125301\n",
       "de Cuauhtémoc a Cuauhtémoc    104929\n",
       "Name: flujo_transito, dtype: int64"
      ]
     },
     "execution_count": 11,
     "metadata": {},
     "output_type": "execute_result"
    }
   ],
   "source": [
    "df.flujo_transito.value_counts().head()"
   ]
  },
  {
   "attachments": {},
   "cell_type": "markdown",
   "metadata": {},
   "source": [
    "### 8. ¿Cuáles son las principales rutas de viaje en términos de estaciones? ¿Cuáles son las rutas menos transitadas? "
   ]
  },
  {
   "cell_type": "code",
   "execution_count": 12,
   "metadata": {},
   "outputs": [
    {
     "data": {
      "text/plain": [
       "de la estacion 30 a la estación 30      6324\n",
       "de la estacion 391 a la estación 391    3935\n",
       "de la estacion 33 a la estación 33      3581\n",
       "de la estacion 7 a la estación 7        3543\n",
       "de la estacion 372 a la estación 370    3378\n",
       "Name: flujos_estaciones, dtype: int64"
      ]
     },
     "execution_count": 12,
     "metadata": {},
     "output_type": "execute_result"
    }
   ],
   "source": [
    "# Rutas mas transitadas\n",
    "df.flujos_estaciones.value_counts().head()"
   ]
  },
  {
   "cell_type": "code",
   "execution_count": 13,
   "metadata": {},
   "outputs": [
    {
     "data": {
      "text/plain": [
       "de la estacion 399 a la estación 251    1\n",
       "de la estacion 61 a la estación 364     1\n",
       "de la estacion 422 a la estación 319    1\n",
       "de la estacion 81 a la estación 352     1\n",
       "de la estacion 308 a la estación 107    1\n",
       "Name: flujos_estaciones, dtype: int64"
      ]
     },
     "execution_count": 13,
     "metadata": {},
     "output_type": "execute_result"
    }
   ],
   "source": [
    "# Rutas menos transitadas\n",
    "df.flujos_estaciones.value_counts(ascending=True).head()"
   ]
  },
  {
   "attachments": {},
   "cell_type": "markdown",
   "metadata": {},
   "source": [
    "### 9. ¿Cuál es la edad promedio de los usuarios?\n"
   ]
  },
  {
   "cell_type": "code",
   "execution_count": 14,
   "metadata": {},
   "outputs": [
    {
     "data": {
      "text/plain": [
       "<AxesSubplot: >"
      ]
     },
     "execution_count": 14,
     "metadata": {},
     "output_type": "execute_result"
    },
    {
     "data": {
      "image/png": "[encoded data removed]",
      "text/plain": [
       "<Figure size 640x480 with 1 Axes>"
      ]
     },
     "metadata": {},
     "output_type": "display_data"
    }
   ],
   "source": [
    "df.Edad_Usuario.hist(bins=30)"
   ]
  },
  {
   "cell_type": "code",
   "execution_count": 15,
   "metadata": {},
   "outputs": [
    {
     "data": {
      "text/plain": [
       "35.55295605629334"
      ]
     },
     "execution_count": 15,
     "metadata": {},
     "output_type": "execute_result"
    }
   ],
   "source": [
    "df.Edad_Usuario.mean()"
   ]
  },
  {
   "cell_type": "code",
   "execution_count": 19,
   "metadata": {},
   "outputs": [
    {
     "data": {
      "text/plain": [
       "count    6770321.00\n",
       "mean          35.55\n",
       "std           10.26\n",
       "min           16.00\n",
       "25%           28.00\n",
       "50%           33.00\n",
       "75%           41.00\n",
       "max          122.00\n",
       "Name: Edad_Usuario, dtype: float64"
      ]
     },
     "execution_count": 19,
     "metadata": {},
     "output_type": "execute_result"
    }
   ],
   "source": [
    "df.Edad_Usuario.describe().round(2)"
   ]
  },
  {
   "attachments": {},
   "cell_type": "markdown",
   "metadata": {},
   "source": [
    "### 10. ¿Cómo se agrupan los usuarios en términos de género?"
   ]
  },
  {
   "cell_type": "code",
   "execution_count": 22,
   "metadata": {},
   "outputs": [
    {
     "data": {
      "text/plain": [
       "M    4832790\n",
       "F    1843277\n",
       "O      94254\n",
       "Name: Genero_Usuario, dtype: int64"
      ]
     },
     "execution_count": 22,
     "metadata": {},
     "output_type": "execute_result"
    }
   ],
   "source": [
    "df.Genero_Usuario.value_counts()"
   ]
  },
  {
   "cell_type": "code",
   "execution_count": 23,
   "metadata": {},
   "outputs": [
    {
     "data": {
      "image/png": "[encoded data removed]",
      "text/plain": [
       "<Figure size 640x480 with 1 Axes>"
      ]
     },
     "metadata": {},
     "output_type": "display_data"
    }
   ],
   "source": [
    "import matplotlib.pyplot as plt\n",
    "valores = df['Genero_Usuario'].value_counts()\n",
    "plt.pie(valores, labels=valores.index, autopct='%1.1f%%')\n",
    "plt.title('Género de usuarios de Ecobici')\n",
    "plt.show()"
   ]
  }
 ],
 "metadata": {
  "kernelspec": {
   "display_name": "Python 3",
   "language": "python",
   "name": "python3"
  },
  "language_info": {
   "codemirror_mode": {
    "name": "ipython",
    "version": 3
   },
   "file_extension": ".py",
   "mimetype": "text/x-python",
   "name": "python",
   "nbconvert_exporter": "python",
   "pygments_lexer": "ipython3",
   "version": "3.11.2"
  },
  "orig_nbformat": 4
 },
 "nbformat": 4,
 "nbformat_minor": 2
}
